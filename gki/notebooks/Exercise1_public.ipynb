{
 "cells": [
  {
   "cell_type": "code",
   "execution_count": 14,
   "metadata": {
    "collapsed": true,
    "hide_input": true
   },
   "outputs": [
    {
     "data": {
      "text/html": [
       "<style>/* Style des gesamten Dokuments */\n",
       "#notebook-container {\n",
       "\tfont-family: \"NimbusMonL-ReguObli\";\n",
       "\tfont-size: 120%\n",
       "}\n",
       "\n",
       "/* Style für die Überschrift: Zentriert diese und stellt sie fett dar. */\n",
       ".headline {\n",
       "\ttext-align: center;\n",
       "\tfont-weight: bold;\n",
       "\tfont-size: 185.7%\n",
       "}\n",
       "\n",
       "/* Style für die Aufgabenbeschreibung. Z.B.: \"Übung zum Thema...\" */\n",
       ".description {\n",
       "\ttext-align: center;\n",
       "\tfont-size: 145.7%\n",
       "}\n",
       "\n",
       "/* Hebt das Abgabedatum fett und kursiv hervor */\n",
       "#submission {\n",
       "\tfont-weight: bold;\n",
       "}\n",
       "\n",
       "/* Style für das eigentliche Thema. Z.B.: \"Intelligenz\" */\n",
       "#topic {\n",
       "\tfont-style: italic;\n",
       "}\n",
       "\n",
       ".task_description {\n",
       "\n",
       "}\n",
       "\n",
       "/* Hebt die Aufgabennummerierung fett hervor. */\n",
       ".task {\n",
       "\tfont-style: normal;\n",
       "\tfont-weight: bold;\n",
       "}\n",
       "\n",
       ".points {\n",
       "\tfont-style: italic;\n",
       "}\n",
       "\n",
       "/* Style einer Code-Cell */\n",
       ".CodeMirror-code {\n",
       "\tbackground-color: #ededed\n",
       "}\n",
       "\n",
       "/* Style eines Kommentars im Code ändern. */\n",
       ".cm-s-ipython span.cm-comment {\n",
       "\n",
       "}\n",
       "\n",
       ".cm-s-ipython span.cm-atom {\n",
       "\n",
       "}\n",
       "\n",
       ".cm-s-ipython span.cm-number {\n",
       "\n",
       "}\n",
       "\n",
       "/* Style eines Python-Keywords ändern */\n",
       ".cm-s-ipython span.cm-keyword {\n",
       "\tcolor: #B000B0\n",
       "}\n",
       "\n",
       ".cm-s-ipython span.cm-def {\n",
       "\n",
       "}\n",
       "\n",
       "/* Style einer Python-Variable ändern */\n",
       ".cm-s-ipython span.cm-variable {\n",
       "\t\n",
       "}\n",
       "\n",
       "/* Style einer Property ändern */\n",
       ".cm-s-ipython span.cm-property {\n",
       "\t\n",
       "}\n",
       "\n",
       "/* Style eines Python-Operators ändern */\n",
       ".cm-s-ipython span.cm-operator {\n",
       "\t\n",
       "}\n",
       "\n",
       "/* Style eines Python-Strings ändern */\n",
       ".cm-s-ipython span.cm-string {\n",
       "\tcolor: brown;\n",
       "}\n",
       "\n",
       "/* Style einer eingebauten Funktion ändern (z.B. \"open\") */\n",
       ".cm-s-ipython span.cm-builtin {\n",
       "\t\n",
       "}\n",
       "\n",
       "/* Hebt hervor, welche Klammern zueinander passen */\n",
       ".cm-s-ipython .CodeMirror-matchingbracket {\n",
       "\t\n",
       "}\n",
       "\n",
       ".cm-s-ipython span.cm-variable-2 {\n",
       "\n",
       "}</style>"
      ],
      "text/plain": [
       "<IPython.core.display.HTML object>"
      ]
     },
     "execution_count": 14,
     "metadata": {},
     "output_type": "execute_result"
    }
   ],
   "source": [
    "# TODO lokales css style file verwenden. Blatt übersichtlich stylen. Idee: wir könnten Cell tags benutzen.\n",
    "#\n",
    "# style the notebook\n",
    "from IPython.core.display import HTML\n",
    "\n",
    "HTML(\"<style>\" + open(\"style.css\").read() + \"</style>\")"
   ]
  },
  {
   "cell_type": "markdown",
   "metadata": {
    "name": "hallo",
    "tags": [
     "test"
    ]
   },
   "source": [
    "<div class=\"headline\">\n",
    "Grundlagen künstlicher Intelligenz\n",
    "<br><br>\n",
    "Sommersemester 2019\n",
    "</div>\n",
    "<br>\n",
    "<div class=\"description\">\n",
    "    Übung zum Thema <i id=\"topic\">\"Intelligenz\"</i>\n",
    "    <br><br>\n",
    "    Deadline Abgabe: <i #id=\"submission\">Freitag, 03.05.2019 (23:55 Uhr)</i>\n",
    "</div>"
   ]
  },
  {
   "cell_type": "markdown",
   "metadata": {},
   "source": [
    "## Präsenzübung"
   ]
  },
  {
   "cell_type": "markdown",
   "metadata": {
    "collapsed": true
   },
   "source": [
    "<div class=\"task_description\">\n",
    "    <i class=\"task\">Task 1.1:</i>\n",
    "\n",
    "Geben Sie ein Beispiel dafür, dass eine Gruppe von Individuen intelligenter agieren kann als es die Intelligenz der einzelnen Individuen vermuten lässt.\n",
    "</div>"
   ]
  },
  {
   "cell_type": "markdown",
   "metadata": {
    "solution": "hidden",
    "solution_first": true
   },
   "source": [
    "---\n",
    "<div class=\"task_description\">\n",
    "    <i class=\"task\">Task 1.2:</i>\n",
    "\n",
    "Treffen die folgenden Aussagen zu? Begründen Sie Ihre Antwort. \n",
    "\n",
    "* \"Natürlich können Computer nicht intelligent sein. Sie tun genau das, was ihnen ihre Programmierer befehlen.\"\n",
    "* \"Natürlich können Tiere nicht intelligent sein. Sie tun genau das, was ihnen ihre Gene befehlen.\"\n",
    "* \"Natürlich können weder Menschen, noch Tiere oder Computer intelligent sein: sie bestehen aus Atomen, die den Gesetzen der Physik unterworfen sind.\"\n",
    "<div>"
   ]
  },
  {
   "cell_type": "markdown",
   "metadata": {},
   "source": [
    "<div class=\"task_description\">\n",
    "    <i class=\"task\">Task 1.3:</i>\n",
    "\n",
    "Sehen Sie sich den Regular Expression Tester an.\n",
    "Dort sehen Sie Beispiele dafür, wie man reguläre Ausdrücke in Python nutzen kann. Gehen Sie die Beispiele Schritt\n",
    "für Schritt durch und fragen Sie Ihren Tutor, wenn Ihnen etwas nicht klar ist. Versuchen Sie nun einzelne Anweisungen\n",
    "zu ändern. Was passiert beispielsweise wenn Sie ```[a-z]``` mit dem Wildcard-Symbol ```.``` ersetzen? Was passiert, wenn Sie ein Fragezeichen zum Ausdruck hinzufügen: ```[a-z]*?``` ?\n",
    "</div>"
   ]
  },
  {
   "cell_type": "markdown",
   "metadata": {},
   "source": [
    "#### Step 0: Modify the regular expression and the test string"
   ]
  },
  {
   "cell_type": "code",
   "execution_count": 3,
   "metadata": {},
   "outputs": [],
   "source": [
    "import re\n",
    "# Modify the regular expression\n",
    "expression = str(\"I feel [a-z]\")\n",
    "\n",
    "# Modify the test string\n",
    "test = str(\"I feel sad and I feel lonely.\")"
   ]
  },
  {
   "cell_type": "markdown",
   "metadata": {},
   "source": [
    "#### Step 1: Check for match"
   ]
  },
  {
   "cell_type": "code",
   "execution_count": 4,
   "metadata": {},
   "outputs": [
    {
     "name": "stdout",
     "output_type": "stream",
     "text": [
      "String: I feel sad and I feel lonely.\n",
      "Expression: I feel [a-z]\n"
     ]
    },
    {
     "data": {
      "text/plain": [
       "<re.Match object; span=(0, 8), match='I feel s'>"
      ]
     },
     "execution_count": 4,
     "metadata": {},
     "output_type": "execute_result"
    }
   ],
   "source": [
    "print(\"String: \" + test)\n",
    "print(\"Expression: \" + expression)\n",
    "\n",
    "re.match(expression, test)"
   ]
  },
  {
   "cell_type": "markdown",
   "metadata": {},
   "source": [
    "#### Step 2: Get all partial matches"
   ]
  },
  {
   "cell_type": "code",
   "execution_count": 5,
   "metadata": {},
   "outputs": [],
   "source": [
    "pattern = re.compile(expression)\n",
    "matcher = pattern.findall(test)\n",
    "\n",
    "#Iterate through all matches. Note: programmers always start counting at 0!"
   ]
  },
  {
   "cell_type": "markdown",
   "metadata": {},
   "source": [
    "#### Step 3: Define different groups for your match"
   ]
  },
  {
   "cell_type": "code",
   "execution_count": 6,
   "metadata": {},
   "outputs": [
    {
     "name": "stdout",
     "output_type": "stream",
     "text": [
      "I feel sad and I feel lonely.\n",
      "\n"
     ]
    }
   ],
   "source": [
    "text = \"I feel sad and I feel lonely.\"\n",
    "print(text)\n",
    "print()\n",
    "\n",
    "# use re.finditer"
   ]
  },
  {
   "cell_type": "markdown",
   "metadata": {},
   "source": [
    "#### Step 4: Modify the string"
   ]
  },
  {
   "cell_type": "code",
   "execution_count": 7,
   "metadata": {},
   "outputs": [],
   "source": [
    "matcher = re.compile(\"(I) feel ([a-z]*)\").search(test)\n",
    "\n",
    "#replace the second group of the first match with \"very happy\"\n",
    "\n"
   ]
  },
  {
   "cell_type": "markdown",
   "metadata": {},
   "source": [
    "#### Step 5: Greedy vs. Lazy\n",
    "Regular expressions can be executed in a greedy and lazy fashion, which influences greatly what is found.\n",
    "Match the words enclosed by ```<begin>``` and ```<end>```. When working with web data or preprocessed data you often have to work with markup.\n",
    "The greedy way finds only one match, the first ```<begin>``` and the the **last** ```</end>```. When working greedily, the ```[.*]``` means that the full text is read until its end and then beginning from the end of the string the sequence is backtracked until a matching ```<end>``` is found. In other words, the regular expression never sees the ```<end>``` behind \"Duisburg\" but only behind \"Hamburg\", which leads in this case to an incorrect result."
   ]
  },
  {
   "cell_type": "code",
   "execution_count": 8,
   "metadata": {},
   "outputs": [
    {
     "name": "stdout",
     "output_type": "stream",
     "text": [
      "Original text: I am sad because I have to move from <begin>Duisburg<end> to rainy <begin>Hamburg<end> next week.\n"
     ]
    }
   ],
   "source": [
    "text = \"I am sad because I have to move from <begin>Duisburg<end> to rainy <begin>Hamburg<end> next week.\";\n",
    "print(\"Original text: \" + text)\n"
   ]
  },
  {
   "cell_type": "markdown",
   "metadata": {},
   "source": [
    "---\n",
    "<div class=\"task_description\">\n",
    "    <i class=\"task\">Task 1.4:</i> Welche Wörter werden mit den folgenden regulären Ausdrücken gefunden? Geben Sie Beispiele.\n",
    "    \n",
    "* ```l[a-z]+en``` <br>\n",
    "* ```([01]?\\d|2[0-3]):([0-5]\\d``` <br>\n",
    "* ```^[a-zA-Z0-9_.+-]+@[a-zA-Z0-9-]+.[a-zA-Z0-9-.]+\\$``` <br>\n",
    "</div>"
   ]
  },
  {
   "cell_type": "code",
   "execution_count": 1,
   "metadata": {},
   "outputs": [],
   "source": [
    "import re\n",
    "#regular expressions\n",
    "expression1 = str(\"l[a-z]+en\")\n",
    "expression2 = str(\"([01]?\\d|2[0-3]):([0-5]\\d)\")\n",
    "expression3 = str(\"^[a-zA-Z0-9_.+-]+@[a-zA-Z0-9-]+\\.[a-zA-Z0-9-.]+$\")\n"
   ]
  },
  {
   "cell_type": "markdown",
   "metadata": {},
   "source": [
    "---\n",
    "<div class=\"task_description\">\n",
    "    <i class=\"task\">Task 1.5:</i> Sehen Sie sich nun die Klasse SimpleEliza an. Führen Sie das Programm aus und testen Sie, welche Dialoge möglich sind. Welche Schwächen hat das Programm? Wie können Sie es verbessern?\n",
    "</div>"
   ]
  },
  {
   "cell_type": "code",
   "execution_count": null,
   "metadata": {},
   "outputs": [],
   "source": [
    "import random\n",
    "\n",
    "class SimpleEliza:\n",
    "\n",
    "    # Eliza's 'intelligence'\n",
    "    def run(self):\n",
    "        \n",
    "        welcome = \"Hallo. Worüber möchten Sie mit mir reden?\"\n",
    "        goodbye = \"Auf Wiedersehen\"\n",
    "        feelings = [\"ängstlich\", \"bedrückt\", \"einsam\", \"erfreut\", \"gestresst\", \"glücklich\", \"traurig\", \"unzufrieden\"]\n",
    "        dummy_sentences = [\n",
    "            \"Erzählen Sie mir mehr davon.\",\n",
    "            \"Interessant.\",\n",
    "            \"Können Sie das noch etwas genauer erklären?\",\n",
    "            \"Was denken Sie darüber?\"\n",
    "        ]\n",
    "\n",
    "        # Greet the user\n",
    "        print(welcome);\n",
    "\n",
    "    \n",
    "        # Process user input. Processing continues until the user says goodbye. \n",
    "        s = \"\"\n",
    "        while s != goodbye:\n",
    "            # Read user input\n",
    "            s = input()\n",
    "            \n",
    "            if s == goodbye:\n",
    "                print(goodbye);\n",
    "                break\n",
    "            answer = \"\"\n",
    "            # Check for feelings\n",
    "            for feeling in feelings:\n",
    "                if feeling in s:\n",
    "                    # Found feeling -> generate answer\n",
    "                    answer = \"Wieso fühlen Sie sich \" + feeling + \"?\"\n",
    "                    # stop processing user input\n",
    "                    break;\n",
    "            \n",
    "            # If no feeling has been detected, generate a dummy answer.\n",
    "            if len(answer) == 0:\n",
    "                # output random sentence\n",
    "                answer = random.choice(dummy_sentences)\n",
    "\n",
    "            print(answer)\n"
   ]
  },
  {
   "cell_type": "code",
   "execution_count": null,
   "metadata": {},
   "outputs": [
    {
     "name": "stdout",
     "output_type": "stream",
     "text": [
      "Hallo. Worüber möchten Sie mit mir reden?\n"
     ]
    }
   ],
   "source": [
    "my_eliza = SimpleEliza()\n",
    "my_eliza.run()"
   ]
  },
  {
   "cell_type": "markdown",
   "metadata": {},
   "source": [
    "## Hausübung"
   ]
  },
  {
   "cell_type": "markdown",
   "metadata": {},
   "source": [
    "Jeder Hausübungspunkt entspricht 1/10 Klausurbonuspunkt, d.h. wer alle 10 Hausübungspunkte dieser Übung bekommt, hat exakt einen Klausurbonuspunkt. Wer nur 5 Hausübungspunkte erreicht, bekommt 1/2 Klausurbonuspunkt. Insgesamt werden 100 Hausübungspunkte über 10 Üungen verteilt. Es können also 10 Klausurbonuspunkte erreicht werden. Bei der endgültigen Berechnung der Klausurbonuspunkte wird auf volle oder halbe Punkte abgerundet, d.h. wer 98 Hausübungspunkte erreicht, bekommt 9,5 Klausurbonuspunkte.\n",
    "\n",
    "Abgabeformat:\n",
    " 1. Ein Jupyter Notebook im .ipynb Format\n",
    " \n",
    "Bitte geben Sie bei jeder Abgabe die Namen und Matrikelnummern der Teammitglieder explizit an."
   ]
  },
  {
   "cell_type": "markdown",
   "metadata": {},
   "source": [
    "<div class=\"task_description\">\n",
    "    <i class=\"task\">Homework 1.1</i> - <i class=\"points\">4 Punkte</i> <br><br>\n",
    "\n",
    "\n",
    "In der Pflichtlektüre Russel & Norvig, Kapitel 26.3, werden verschiedene ethische Probleme diskutiert, die durch die Weiterentwicklung von künstlicher Intelligenz auftreten können. Seit einigen Jahren basiert fast alle neu entwickelte Software in der KI auf maschinellen Lernverfahren, die auf Big Data trainiert werden. Nennen Sie zwei weitere ethische Probleme, die dadurch entstehen könnten. Begründen Sie Ihre Antwort und nennen Sie mögliche Lösungen.\n",
    "</div>"
   ]
  },
  {
   "cell_type": "markdown",
   "metadata": {},
   "source": [
    "<div class=\"task_description\">\n",
    "    <i class=\"task\">Homework 1.2</i> - <i class=\"points\">5 Punkte</i> <br>\n",
    "    \n",
    "Erweitern Sie den Beispielcode einer simplen Eliza Implementierung, um die unten beschriebenen Fähigkeiten zu ermöglichen. Verwenden Sie dabei reguläre Ausdrücke (regular expressions). Kommentieren Sie ihren Code!\n",
    "\n",
    "* Eliza sollte in der Lage sein, auf die Nennung von Familienmitgliedern (\"Vater\", \"Schwester\", etc) zu reagieren.\n",
    "* Eliza sollte Negation in den Aussagen erkennen können.\n",
    "* Eliza sollte die Konjunktionen \"und\" und \"oder\" unterscheiden und unterschiedlich reagieren können.\n",
    "* Eine Fähigkeit Ihrer Wahl.\n",
    "</div>"
   ]
  },
  {
   "cell_type": "markdown",
   "metadata": {},
   "source": [
    "<div class=\"task_description\">\n",
    "    <i class=\"task\">Homework 1.3</i> - <i class=\"points\">1 Punkt</i> <br><br>\n",
    "\n",
    "Beschreiben Sie, inwiefern Ihre Version von SimpleEliza die Basisversion verbessert.\n",
    "</div>"
   ]
  }
 ],
 "metadata": {
  "kernelspec": {
   "display_name": "Python 3",
   "language": "python",
   "name": "python3"
  },
  "language_info": {
   "codemirror_mode": {
    "name": "ipython",
    "version": 3
   },
   "file_extension": ".py",
   "mimetype": "text/x-python",
   "name": "python",
   "nbconvert_exporter": "python",
   "pygments_lexer": "ipython3",
   "version": "3.7.3"
  },
  "varInspector": {
   "cols": {
    "lenName": 16,
    "lenType": 16,
    "lenVar": 40
   },
   "kernels_config": {
    "python": {
     "delete_cmd_postfix": "",
     "delete_cmd_prefix": "del ",
     "library": "var_list.py",
     "varRefreshCmd": "print(var_dic_list())"
    },
    "r": {
     "delete_cmd_postfix": ") ",
     "delete_cmd_prefix": "rm(",
     "library": "var_list.r",
     "varRefreshCmd": "cat(var_dic_list()) "
    }
   },
   "types_to_exclude": [
    "module",
    "function",
    "builtin_function_or_method",
    "instance",
    "_Feature"
   ],
   "window_display": false
  }
 },
 "nbformat": 4,
 "nbformat_minor": 2
}
