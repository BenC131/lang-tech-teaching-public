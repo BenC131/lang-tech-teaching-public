{
 "cells": [
  {
   "cell_type": "code",
   "execution_count": 6,
   "metadata": {
    "hide_input": true
   },
   "outputs": [
    {
     "data": {
      "text/html": [
       "<style>/* Style des gesamten Dokuments */\n",
       "#notebook-container {\n",
       "\tfont-family: \"NimbusMonL-ReguObli\";\n",
       "\tfont-size: 120%\n",
       "}\n",
       "\n",
       "/* Style für die Überschrift: Zentriert diese und stellt sie fett dar. */\n",
       ".headline {\n",
       "\ttext-align: center;\n",
       "\tfont-weight: bold;\n",
       "\tfont-size: 185.7%\n",
       "}\n",
       "\n",
       "/* Style für die Aufgabenbeschreibung. Z.B.: \"Übung zum Thema...\" */\n",
       ".description {\n",
       "\ttext-align: center;\n",
       "\tfont-size: 145.7%\n",
       "}\n",
       "\n",
       "/* Hebt das Abgabedatum fett und kursiv hervor */\n",
       "#submission {\n",
       "\tfont-weight: bold;\n",
       "}\n",
       "\n",
       "/* Style für das eigentliche Thema. Z.B.: \"Intelligenz\" */\n",
       "#topic {\n",
       "\tfont-style: italic;\n",
       "}\n",
       "\n",
       ".task_description {\n",
       "\n",
       "}\n",
       "\n",
       "/* Hebt die Aufgabennummerierung fett hervor. */\n",
       ".task {\n",
       "\tfont-style: normal;\n",
       "\tfont-weight: bold;\n",
       "}\n",
       "\n",
       ".points {\n",
       "\tfont-style: italic;\n",
       "}\n",
       "\n",
       "ol.lower_roman {\n",
       "    list-style-type: lower-roman;\n",
       "}\n",
       "\n",
       "ol.characters {\n",
       "    list-style-type: lower-alpha;\n",
       "}\n",
       "\n",
       "/* Style einer Code-Cell */\n",
       ".CodeMirror-code {\n",
       "\tbackground-color: #ededed\n",
       "}\n",
       "\n",
       "/* Style eines Kommentars im Code ändern. */\n",
       ".cm-s-ipython span.cm-comment {\n",
       "\n",
       "}\n",
       "\n",
       ".cm-s-ipython span.cm-atom {\n",
       "\n",
       "}\n",
       "\n",
       ".cm-s-ipython span.cm-number {\n",
       "\n",
       "}\n",
       "\n",
       "/* Style eines Python-Keywords ändern */\n",
       ".cm-s-ipython span.cm-keyword {\n",
       "\tcolor: #B000B0\n",
       "}\n",
       "\n",
       ".cm-s-ipython span.cm-def {\n",
       "\n",
       "}\n",
       "\n",
       "/* Style einer Python-Variable ändern */\n",
       ".cm-s-ipython span.cm-variable {\n",
       "\t\n",
       "}\n",
       "\n",
       "/* Style einer Property ändern */\n",
       ".cm-s-ipython span.cm-property {\n",
       "\t\n",
       "}\n",
       "\n",
       "/* Style eines Python-Operators ändern */\n",
       ".cm-s-ipython span.cm-operator {\n",
       "\t\n",
       "}\n",
       "\n",
       "/* Style eines Python-Strings ändern */\n",
       ".cm-s-ipython span.cm-string {\n",
       "\tcolor: brown;\n",
       "}\n",
       "\n",
       "/* Style einer eingebauten Funktion ändern (z.B. \"open\") */\n",
       ".cm-s-ipython span.cm-builtin {\n",
       "\t\n",
       "}\n",
       "\n",
       "/* Hebt hervor, welche Klammern zueinander passen */\n",
       ".cm-s-ipython .CodeMirror-matchingbracket {\n",
       "\t\n",
       "}\n",
       "\n",
       ".cm-s-ipython span.cm-variable-2 {\n",
       "\n",
       "}\n",
       "</style>"
      ],
      "text/plain": [
       "<IPython.core.display.HTML object>"
      ]
     },
     "execution_count": 6,
     "metadata": {},
     "output_type": "execute_result"
    }
   ],
   "source": [
    "from IPython.core.display import HTML\n",
    "\n",
    "HTML(\"<style>\" + open(\"style.css\").read() + \"</style>\")"
   ]
  },
  {
   "cell_type": "markdown",
   "metadata": {
    "name": "hallo",
    "tags": [
     "test"
    ]
   },
   "source": [
    "<div class=\"headline\">\n",
    "Grundlagen künstlicher Intelligenz\n",
    "<br><br>\n",
    "Sommersemester 2019\n",
    "</div>\n",
    "<br>\n",
    "<div class=\"description\">\n",
    "    <i id=\"topic\">\"Übungsklausur\"</i>\n",
    "</div>"
   ]
  },
  {
   "cell_type": "markdown",
   "metadata": {},
   "source": [
    "<div class=\"task_description\">\n",
    "    <i class=\"task\">Task 1: ::6 Punkte::</i> Welche Wörter werden mit den folgenden regulären Ausdrücken gefunden? Geben Sie zwei Beispiele pro Regular Expression.\n",
    "</div>"
   ]
  },
  {
   "cell_type": "markdown",
   "metadata": {},
   "source": [
    "*Which words are found with the following regular expressions? Give two examples per regular expression.*"
   ]
  },
  {
   "cell_type": "markdown",
   "metadata": {},
   "source": [
    "* ```l[a-z]+en``` (**2 Punkte**)\n",
    "* ```([01]?\\d|2[0-3]):([0-5]\\d)```(**2 Punkte**)\n",
    "* ```^[a-zA-Z0-9_\\.+-]+@[a-zA-Z0-9_\\.~-]+\\.[a-zA-Z]{2,}$``` (**2 Punkte**)"
   ]
  },
  {
   "cell_type": "markdown",
   "metadata": {},
   "source": [
    "<div class=\"task_description\">\n",
    "    <i class=\"task\">Task 2: ::9 Punkte::</i>\n",
    "\n",
    "Erstellen Sie PEAS-Beschreibungen für die folgenden Agenten. Begründen sie ihre Antworten: <br>\n",
    "(a) Mensch-ärger-dich-nicht (**3 Punkte**)<br>\n",
    "(b) Selbstfahrende U-Bahn (**3 Punkte**)<br>\n",
    "(c) Aktienhändler (**3 Punkte**)<br><br>\n",
    "\n",
    "*Create PEAS descriptions for the following agents. Justify your answers:* <br>\n",
    "*(a) Ludo (**3 points**)* <br> \n",
    "*(b) self-driving subway (**3 points**)*<br>\n",
    "*(c) Stock traders  (**3 points**)* <br>"
   ]
  },
  {
   "cell_type": "markdown",
   "metadata": {},
   "source": [
    "<div class=\"task_description\">\n",
    "    <i class=\"task\">Task 3: ::8 Punkte::</i> <br>\n",
    "Gegeben sei die Problembeschreibung durch die Karte Rumäniens. Sie wollen von Faragas nach Pitesti reisen. Der Ausgangszustand (initial state) und der Zielzustand (goal state) sind entsprechend anzupassen.\n",
    "</div>\n",
    "\n",
    "Notieren Sie die/ eine mögliche Reihenfolge der Knoten, die sie mit Breath-first search erzeugen und expandieren, bis Sie einen Pfad gefunden haben. (**8 Punkte**)<br>\n",
    "\n",
    "*Given the problem description by the map of Romania. You want to travel from Faragas to Pitesti. The initial state and the goal state must be adjusted accordingly.* <br>\n",
    "*Note the possible order of the nodes you create with Breath-first search and expand until you find a path. (**8 points**)*\n"
   ]
  },
  {
   "cell_type": "markdown",
   "metadata": {},
   "source": [
    "![Karte Rumaenien](img/exercise3/Karte_Romania.png)"
   ]
  },
  {
   "cell_type": "markdown",
   "metadata": {},
   "source": [
    "<div class=\"task_description\">\n",
    "    <i class=\"task\">Task 4: ::12 Punkte::</i>\n",
    "</div>    \n",
    "a) Finden Sie anhand der Karte Rumäniens den Weg von Arad nach Bucharest. Verwenden Sie Greedy Best First Search. (**6 points**) <br>\n",
    "\n",
    "*Find the way from Arad to Bucharest by reference to the map of Romania. Use Greedy Best First Search. (**6 points**)*\n",
    "\n",
    "\n",
    "b) Welche der folgenden Funktionen implementiert die Manhattan Distanz und welche die Euklidische Distanz? Erläutern Sie woran Sie dies erkennen können.  (**6 points**)\n",
    "    \n",
    "*Which of the following functions implements the Manhattan Distance and which the Euclidean Distance? Explain where you can see this.*  (**6 points**)\n",
    "   "
   ]
  },
  {
   "cell_type": "code",
   "execution_count": 7,
   "metadata": {},
   "outputs": [],
   "source": [
    "import math\n",
    "\n",
    "def dist1(v1, v2):\n",
    "    sum_diff = 0\n",
    "    for i in range(0, len(v1)):\n",
    "        sum_diff += (v1[i] - v2[i])**2\n",
    "\n",
    "    return math.sqrt(sum_diff)\n",
    "\n",
    "def dist2(v1, v2):\n",
    "    sum_diff = 0\n",
    "    for i in range(0, len(v1)):\n",
    "        sum_diff += abs(v1[i] - v2[i])\n",
    "\n",
    "    return sum_diff"
   ]
  },
  {
   "cell_type": "markdown",
   "metadata": {},
   "source": [
    "<div class=\"task_description\">\n",
    "    <i class=\"task\">Task 5 ::9 Punkte::</i> <br>\n",
    "</div>\n",
    "Betrachten Sie das Beispiel mit fünf Städten in Abb. 1. Zur visuellen Unterscheidung von den Fahrtzeiten sind Städte hier mit Buchstaben statt Zahlen kodiert.\n",
    "\n",
    "1. Berechnen Sie die Fahrtzeit auf der “naiven” Route [A, B, C, D, E, A]. (**2 Punkte**)\n",
    "2. Ermitteln Sie händisch die Fahrtzeit mittels der Strategie “greedy best-first”. (**5 Punkte**)\n",
    "3. Berechnen Sie die Anzahl der möglichen Routen (= Permutationen) für diese Karte. (**2 Punkte**)\n",
    "\n",
    "*Consider the example with five cities in Abb. 1. To visually differentiate the travel times, cities are coded with letters instead of numbers.* <br>\n",
    "1. *Calculate the travel time on the \"naive\" route [A, B, C, D, E, A]. (**2 points**)*\n",
    "2. *Determine manually the travel time by means of the strategy \"greedy best-first\". (**5 points**)*\n",
    "3. *Calculate the number of possible routes (= permutations) for this map. (**2 points**)*\n",
    "\n",
    "![Beispiel_TSP](img/exercise5/tsp_5towns.png)"
   ]
  },
  {
   "cell_type": "markdown",
   "metadata": {},
   "source": [
    "<div class=\"task_description\">\n",
    "    <i class=\"task\">Task 6: :: 5 Punkte::</i> Local Search\n",
    "</div>"
   ]
  },
  {
   "cell_type": "code",
   "execution_count": null,
   "metadata": {},
   "outputs": [],
   "source": [
    "tour = [x for x in range(5)]\n",
    "\n",
    "print(tour)"
   ]
  },
  {
   "cell_type": "markdown",
   "metadata": {},
   "source": [
    "a) Was ist die Ausgabe des obigen Programmcodes? Geben Sie die exakte Ausgabe an. (**2 Punkte**)<br>\n",
    "*What is the output of the above code? Give the exact output. (**2 points**)*\n",
    "\n",
    "b) Was müssen Sie ändern, damit eine zufällige Reihenfolge ausgegeben wird? Schreiben Sie den entsprechenden Code (**3 Punkte**)<br>\n",
    "*What do you need to change to output a random order? Write the corresponding code. (**3 points**)*"
   ]
  },
  {
   "cell_type": "markdown",
   "metadata": {},
   "source": [
    "<div class=\"task_description\">\n",
    "    <i class=\"task\">Task 7: ::12 Punkte::</i>\n",
    "Eine Urne enthält 23 Bälle: 8 weiße, 6 blaue und 9 rote. Wir wählen sechs Bälle zufällig aus (jede Auswahl ist gleich wahrscheinlich). Schreiben Sie Python-Methoden für folgendes: <br>\n",
    "</div>\n",
    "\n",
    "*An urn contains 23 balls: 8 white, 6 blue, and 9 red. We select six balls at random (each possible selection is equally likely). Write Python-methods for the following:*\n",
    "\n",
    "a) Wie würde der Sample Space fomalisiert werden und was ist dessen Größe? (**6 Punkte**)<br>\n",
    "*How would the sample space be formalized and what is its size? (**6 points**)*\n",
    "\n",
    "b) Wahrscheinlichkeit von mindestens vier weißen Bällen. (**6 Punkte**)<br>\n",
    "*Probability of at least 4 white balls. (**6 points**)*\n"
   ]
  },
  {
   "cell_type": "markdown",
   "metadata": {},
   "source": [
    "<div class=\"task_description\">\n",
    "    <i class=\"task\">Task 8 ::18 Punkte::</i> <br>\n",
    "</div>\n",
    "\n",
    "Sie werden von einem Unternehmen beauftragt ein System zur automatischen Klassifikation von Computerspielen in Alterskategorien zu entwerfen.\n",
    "Die Liste der Kategorien ist ‘0’, ‘6’, ‘12’ und ‘18’.\n",
    "Dies entspricht jeweils dem Mindestalter um das Spiel spielen zu dürfen.\n",
    "Zu jedem Spiel gibt es folgende Meta-Informationen, die für die Klassifikation benutzt werden können:<br>\n",
    "*You are commissioned by a company to design a system for the automatic classification of computer games into age categories.\n",
    "The list of categories is '0', '6', '12' and '18'.\n",
    "This is the minimum age to play the game.\n",
    "For each game there is the following meta information, which can be used for classification:*\n",
    "* der Name des Spiels (*the name of the game,*),\n",
    "* der Name der Entwicklerfirma (*the name of the developer company,*),\n",
    "* einen Text, welcher den Inhalt des Spieles beschreibt (*a text describing the content of the game*)."
   ]
  },
  {
   "cell_type": "markdown",
   "metadata": {},
   "source": [
    "a) Definieren Sie vier Features, welche Sie für die Klassifikation benutzen können. Erklären Sie warum diese hilfreich sein könnten. (**6 Punkte**)<br> \n",
    "*Define four features that you can use for classification. Explain why they might be helpful (**6 points**)* <br><br>\n",
    "b) Wie würden Sie die Daten unterteilen, wenn Sie den bestmöglichen Klassifikator trainieren wollen, aber gleichzeitig prüfen möchten, ob dieser auch wirklich der beste ist? Begründen Sie Ihre Aufteilung. (**6 Punkte**)<br>\n",
    "*How would you divide the data if you wanted to train the best possible classifier, but at the same time want to check if it is really the best one? Justify your division. (**6 points**)*"
   ]
  },
  {
   "cell_type": "markdown",
   "metadata": {},
   "source": [
    "c) Das System zur automatischen Klassifikation von Computerspielen in Alterskategorien wird in zwei Varianten entwickelt. Welche der beiden Varianten würden Sie empfehlen, wenn es die oberste Priorität ist Kinder vor Spielen zu schützen, die nicht altersgerecht sind? Erläutern Sie Ihre Entscheidung.<br>\n",
    "\n",
    "*The system for the automatic classification of computer games into age categories is developed in two variants. Which of the two variants would you recommend if the top priority is to protect children from games that are not age-appropriate? Explain your decision.* (**6 points**)"
   ]
  },
  {
   "cell_type": "markdown",
   "metadata": {},
   "source": [
    "<div class=\"task_description\">\n",
    "    <i class=\"task\">Task 9: ::8 Punkte::</i><br>\n",
    "\n",
    "Welche der folgenden Aussagen ist richtig? Begründen Sie ihre Antworten. <br>\n",
    "*Which of the following statements are true? Justify your answers.* <br><br>\n",
    "a) Wenn Sie so viele Features wie möglich verwenden, erhalten Sie die bestmögliche Klassifizierung. (**4 Punkte**) <br>\n",
    "*If you take as many features as possible, you will get the best possible classification. (**4 points**)* <br><br>\n",
    "b) Mehr Testdaten bedeuten zuverlässigere Performance-Schätzungen. (**4 Punkte**)<br>\n",
    "*More test data means more reliable performance estimates. (**4 points**)*<br>\n"
   ]
  },
  {
   "cell_type": "markdown",
   "metadata": {},
   "source": [
    "<div class=\"task_description\">\n",
    "    <i class=\"task\">Task 10: ::11 Punkte::</i>\n",
    "\n",
    "a) Erläutern Sie was der Hyperparameter *Learning Rate* kontrolliert. (**3 Punkte**) <br>\n",
    "b) Wie ist der grundlegende Aufbau eines Neurons in einem Neural Network? Erläutern Sie kurz die einzelnen Bestandteile. (**5 Punkte**)<br>\n",
    "c) Wie funktioniert die Aktivierungsfunktion Softmax? Wofür wird sie verwendet? (**3 Punkte**)<br>\n"
   ]
  },
  {
   "cell_type": "code",
   "execution_count": null,
   "metadata": {},
   "outputs": [],
   "source": []
  }
 ],
 "metadata": {
  "kernelspec": {
   "display_name": "Python 3",
   "language": "python",
   "name": "python3"
  },
  "language_info": {
   "codemirror_mode": {
    "name": "ipython",
    "version": 3
   },
   "file_extension": ".py",
   "mimetype": "text/x-python",
   "name": "python",
   "nbconvert_exporter": "python",
   "pygments_lexer": "ipython3",
   "version": "3.7.3"
  },
  "varInspector": {
   "cols": {
    "lenName": 16,
    "lenType": 16,
    "lenVar": 40
   },
   "kernels_config": {
    "python": {
     "delete_cmd_postfix": "",
     "delete_cmd_prefix": "del ",
     "library": "var_list.py",
     "varRefreshCmd": "print(var_dic_list())"
    },
    "r": {
     "delete_cmd_postfix": ") ",
     "delete_cmd_prefix": "rm(",
     "library": "var_list.r",
     "varRefreshCmd": "cat(var_dic_list()) "
    }
   },
   "types_to_exclude": [
    "module",
    "function",
    "builtin_function_or_method",
    "instance",
    "_Feature"
   ],
   "window_display": false
  }
 },
 "nbformat": 4,
 "nbformat_minor": 2
}
